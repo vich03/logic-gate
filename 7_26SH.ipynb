{
  "nbformat": 4,
  "nbformat_minor": 0,
  "metadata": {
    "colab": {
      "name": "7.26SH",
      "provenance": [],
      "collapsed_sections": [],
      "authorship_tag": "ABX9TyONLRDGYteFD0tJAHaoA7Jy",
      "include_colab_link": true
    },
    "kernelspec": {
      "name": "python3",
      "display_name": "Python 3"
    },
    "language_info": {
      "name": "python"
    }
  },
  "cells": [
    {
      "cell_type": "markdown",
      "metadata": {
        "id": "view-in-github",
        "colab_type": "text"
      },
      "source": [
        "<a href=\"https://colab.research.google.com/github/vich03/logic-gate/blob/main/7_26SH.ipynb\" target=\"_parent\"><img src=\"https://colab.research.google.com/assets/colab-badge.svg\" alt=\"Open In Colab\"/></a>"
      ]
    },
    {
      "cell_type": "code",
      "source": [
        "import numpy as np"
      ],
      "metadata": {
        "id": "6XV75EA7IdBP"
      },
      "execution_count": null,
      "outputs": []
    },
    {
      "cell_type": "code",
      "source": [
        "b1 = -2.5\n",
        "b2 = 0.5\n",
        "b3 = -3\n",
        "b4 = 1.5"
      ],
      "metadata": {
        "id": "In4s3jNCYbF1"
      },
      "execution_count": null,
      "outputs": []
    },
    {
      "cell_type": "code",
      "source": [
        "w1=np.array([2,1])\n",
        "w2=np.array([2,1])\n",
        "w3=np.array([-1,2])\n",
        "w4=np.array([-1,2])"
      ],
      "metadata": {
        "id": "zqLR9L4zZpAZ"
      },
      "execution_count": null,
      "outputs": []
    },
    {
      "cell_type": "code",
      "source": [
        "print(b1)\n",
        "print(b2)\n",
        "print(b3)\n",
        "print(b4)\n",
        "print(w1)\n",
        "print(w2)\n",
        "print(w3)\n",
        "print(w4)\n",
        "\n"
      ],
      "metadata": {
        "colab": {
          "base_uri": "https://localhost:8080/"
        },
        "id": "ZIQlYv4_aCzz",
        "outputId": "f923fab6-8e1d-4e87-a65e-0dc16e15b129"
      },
      "execution_count": null,
      "outputs": [
        {
          "output_type": "stream",
          "name": "stdout",
          "text": [
            "-2.5\n",
            "0.5\n",
            "-3\n",
            "1.5\n",
            "[2 1]\n",
            "[2 1]\n",
            "[-1  2]\n",
            "[-1  2]\n"
          ]
        }
      ]
    },
    {
      "cell_type": "code",
      "execution_count": null,
      "metadata": {
        "id": "QP2PFSFSFQEe"
      },
      "outputs": [],
      "source": [
        "|def AND(x1, x2):\n",
        "    x=np.array([x1, x2])\n",
        "    w=np.array([0.5, 0.5])\n",
        "    b=-0.7\n",
        "    temp=np.sum(w*x)+b\n",
        "\n",
        "    if temp>0:\n",
        "        return 1\n",
        "    else:\n",
        "        return 0\n",
        "  "
      ]
    },
    {
      "cell_type": "code",
      "source": [
        "print(AND(0,0))\n",
        "print(AND(1,0))\n",
        "print(AND(0,1))\n",
        "print(AND(1,1))"
      ],
      "metadata": {
        "colab": {
          "base_uri": "https://localhost:8080/"
        },
        "id": "VXxbJHgdHy4O",
        "outputId": "014d3fc3-da34-43d1-e5e3-ce273a1f3947"
      },
      "execution_count": null,
      "outputs": [
        {
          "output_type": "stream",
          "name": "stdout",
          "text": [
            "0\n",
            "0\n",
            "0\n",
            "1\n"
          ]
        }
      ]
    },
    {
      "cell_type": "code",
      "source": [
        "def NAND(x1, x2):#1\n",
        "  x=np.array([x1, x2])\n",
        "  w1=np.array([2, 1])\n",
        " \n",
        "  temp=np.sum(w*x)+b1\n",
        "  \n",
        "  if temp<0:\n",
        "      return 1\n",
        "  else:\n",
        "      return 0"
      ],
      "metadata": {
        "id": "omgBBMn7J4CP"
      },
      "execution_count": null,
      "outputs": []
    },
    {
      "cell_type": "code",
      "source": [
        "print(NAND(0,0))\n",
        "print(NAND(1,0))\n",
        "print(NAND(0,1))\n",
        "print(NAND(1,1))"
      ],
      "metadata": {
        "colab": {
          "base_uri": "https://localhost:8080/"
        },
        "id": "50urRQWnP1jS",
        "outputId": "4b35a67e-ec2d-4831-887d-ddb88371a818"
      },
      "execution_count": null,
      "outputs": [
        {
          "output_type": "stream",
          "name": "stdout",
          "text": [
            "1\n",
            "1\n",
            "1\n",
            "0\n"
          ]
        }
      ]
    },
    {
      "cell_type": "code",
      "source": [
        "def OR(x1, x2):#2\n",
        "  x=np.array([x1, x2])\n",
        "  w2=np.array([2,1])\n",
        "\n",
        "  temp=np.sum(w*x)+b2\n",
        "\n",
        "  if temp>0:\n",
        "      return 1\n",
        "  else:\n",
        "      return 0"
      ],
      "metadata": {
        "id": "N1daAOOqQTzI"
      },
      "execution_count": null,
      "outputs": []
    },
    {
      "cell_type": "code",
      "source": [
        "print(OR(0,0))\n",
        "print(OR(1,0))\n",
        "print(OR(0,1))\n",
        "print(OR(1,1))"
      ],
      "metadata": {
        "colab": {
          "base_uri": "https://localhost:8080/"
        },
        "id": "ZgNtO8sDRqPi",
        "outputId": "efae4265-eb04-4111-8fab-5439014c4641"
      },
      "execution_count": null,
      "outputs": [
        {
          "output_type": "stream",
          "name": "stdout",
          "text": [
            "1\n",
            "1\n",
            "1\n",
            "1\n"
          ]
        }
      ]
    },
    {
      "cell_type": "code",
      "source": [
        "def NAND2(x1, x2):#3\n",
        "  x=np.array([x1,x2])\n",
        "  w3=np.array([-1,2])\n",
        " \n",
        "  temp=np.sum(w*x)+b3\n",
        "\n",
        "  if temp<0:\n",
        "      return 1\n",
        "  else:\n",
        "      return 0"
      ],
      "metadata": {
        "id": "q-9IZ5hYSQ7o"
      },
      "execution_count": null,
      "outputs": []
    },
    {
      "cell_type": "code",
      "source": [
        "print(NAND2(0,0))\n",
        "print(NAND2(1,0))\n",
        "print(NAND2(0,1))\n",
        "print(NAND2(1,1))"
      ],
      "metadata": {
        "colab": {
          "base_uri": "https://localhost:8080/"
        },
        "id": "lNFjkm8_UTHs",
        "outputId": "4a70eb26-8a2d-4472-8eb4-c37ffac801eb"
      },
      "execution_count": null,
      "outputs": [
        {
          "output_type": "stream",
          "name": "stdout",
          "text": [
            "1\n",
            "1\n",
            "1\n",
            "1\n"
          ]
        }
      ]
    },
    {
      "cell_type": "code",
      "source": [
        "def OR2(x1, x2):#4\n",
        "  x=np.array([x1, x2])\n",
        "  w4=np.array([-1,2])\n",
        " \n",
        "  temp=np.sum(w*x)+b4\n",
        "\n",
        "  if temp>0:\n",
        "      return 1\n",
        "  else:\n",
        "      return 0"
      ],
      "metadata": {
        "id": "0z_BNTYPUa8K"
      },
      "execution_count": null,
      "outputs": []
    },
    {
      "cell_type": "code",
      "source": [
        "print(OR2(0,0))\n",
        "print(OR2(1,0))\n",
        "print(OR2(0,1))\n",
        "print(OR2(1,1))"
      ],
      "metadata": {
        "colab": {
          "base_uri": "https://localhost:8080/"
        },
        "id": "pBpD7qq8VIpl",
        "outputId": "6e4c50fd-aa7f-4883-efe9-f8ea544b97bc"
      },
      "execution_count": null,
      "outputs": [
        {
          "output_type": "stream",
          "name": "stdout",
          "text": [
            "1\n",
            "1\n",
            "1\n",
            "1\n"
          ]
        }
      ]
    },
    {
      "cell_type": "code",
      "source": [
        "def XOR(x1, x2):\n",
        "  y1=OR(x1, x2)\n",
        "  y2=NAND(x1, x2)\n",
        "  y3=AND(y1, y2)\n",
        "  return y3"
      ],
      "metadata": {
        "id": "q-OVb8MIVPZI"
      },
      "execution_count": null,
      "outputs": []
    },
    {
      "cell_type": "code",
      "source": [
        "print(XOR(0,0))\n",
        "print(XOR(1,0))\n",
        "print(XOR(0,1))\n",
        "print(XOR(1,1))"
      ],
      "metadata": {
        "colab": {
          "base_uri": "https://localhost:8080/"
        },
        "id": "9EVrzd-OVlMV",
        "outputId": "29574981-0743-4d77-8043-c63b8546c9f5"
      },
      "execution_count": null,
      "outputs": [
        {
          "output_type": "stream",
          "name": "stdout",
          "text": [
            "1\n",
            "1\n",
            "1\n",
            "0\n"
          ]
        }
      ]
    },
    {
      "cell_type": "code",
      "source": [
        "def XOR2(x1, x2):\n",
        "  y4=OR2(x1, x2)\n",
        "  y5=NAND2(x1, x2)\n",
        "  y6=AND(y4,y5)\n",
        "  return y6"
      ],
      "metadata": {
        "id": "2PFvynz0VtFI"
      },
      "execution_count": null,
      "outputs": []
    },
    {
      "cell_type": "code",
      "source": [
        "print(XOR2(0,0))\n",
        "print(XOR2(1,0))\n",
        "print(XOR2(0,1))\n",
        "print(XOR2(1,1))"
      ],
      "metadata": {
        "colab": {
          "base_uri": "https://localhost:8080/"
        },
        "id": "WacPD_cOWT2G",
        "outputId": "511bf74a-682b-494c-e7ad-4530405ecbc5"
      },
      "execution_count": null,
      "outputs": [
        {
          "output_type": "stream",
          "name": "stdout",
          "text": [
            "1\n",
            "1\n",
            "1\n",
            "1\n"
          ]
        }
      ]
    },
    {
      "cell_type": "code",
      "source": [
        "def AND2(x1, x2):\n",
        "  y3=XOR(x1, x2)\n",
        "  y6=XOR2(x1, x2)\n",
        "  y7=AND(y3,y6)\n",
        "  return y7"
      ],
      "metadata": {
        "id": "EyffvRYvWX-e"
      },
      "execution_count": null,
      "outputs": []
    },
    {
      "cell_type": "code",
      "source": [
        "print(AND2(0.5,0.5))\n",
        "print(AND2(0.8,0.8))\n",
        "print(AND2(0,1))\n",
        "print(AND2(1,1))"
      ],
      "metadata": {
        "colab": {
          "base_uri": "https://localhost:8080/"
        },
        "id": "0IIQnYIZXlvb",
        "outputId": "655d5636-31af-4fb4-91e0-50dd7122625d"
      },
      "execution_count": null,
      "outputs": [
        {
          "output_type": "stream",
          "name": "stdout",
          "text": [
            "1\n",
            "1\n",
            "1\n",
            "0\n"
          ]
        }
      ]
    },
    {
      "cell_type": "code",
      "source": [
        ""
      ],
      "metadata": {
        "id": "wN9-2nk2XsF-"
      },
      "execution_count": null,
      "outputs": []
    }
  ]
}